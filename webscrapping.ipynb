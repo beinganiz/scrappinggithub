{
  "cells": [
    {
      "cell_type": "markdown",
      "metadata": {
        "id": "view-in-github",
        "colab_type": "text"
      },
      "source": [
        "<a href=\"https://colab.research.google.com/github/beinganiz/scrappinggithub/blob/main/webscrapping.ipynb\" target=\"_parent\"><img src=\"https://colab.research.google.com/assets/colab-badge.svg\" alt=\"Open In Colab\"/></a>"
      ]
    },
    {
      "cell_type": "markdown",
      "metadata": {
        "heading_collapsed": true,
        "id": "ew1pcwKmKLCR"
      },
      "source": [
        "# web-scraping\n",
        "\n",
        "Use the \"Run\" button to execute the code."
      ]
    },
    {
      "cell_type": "markdown",
      "metadata": {
        "id": "mceSvuqjKLCY"
      },
      "source": [
        "# Objective\n",
        "Fetch All Topic From 'github.topics'\n",
        "Fetch The Details Of Every Topic"
      ]
    },
    {
      "cell_type": "code",
      "execution_count": null,
      "metadata": {
        "id": "aMke4rMmKLCa"
      },
      "outputs": [],
      "source": [
        "#These Library Needed For This scraping\n",
        "#We have to Import This\n",
        "import requests\n",
        "from bs4 import BeautifulSoup as soup\n",
        "import pandas as pd\n",
        "import os\n"
      ]
    },
    {
      "cell_type": "markdown",
      "metadata": {
        "id": "s6vs4JkHKLCc"
      },
      "source": [
        "# The Site We have To Work On"
      ]
    },
    {
      "cell_type": "code",
      "execution_count": null,
      "metadata": {
        "id": "sWeeynKqKLCd"
      },
      "outputs": [],
      "source": [
        "# We Have Six Pages on 'Github.topic' So Lets Fetch All Page\n",
        "url='https://github.com/topics'\n",
        "Topic_page=[]\n",
        "for page in range(1,6+1):\n",
        "    Topic_page.append(url+'?page='+str(page))"
      ]
    },
    {
      "cell_type": "code",
      "execution_count": null,
      "metadata": {
        "colab": {
          "base_uri": "https://localhost:8080/"
        },
        "id": "N0vlFFCjKLCd",
        "outputId": "e1e637c8-eb28-4ec7-bffd-7a262d299f59"
      },
      "outputs": [
        {
          "data": {
            "text/plain": [
              "['https://github.com/topics?page=1']"
            ]
          },
          "execution_count": 6,
          "metadata": {},
          "output_type": "execute_result"
        }
      ],
      "source": [
        "#Now We have The Links of page in List\n",
        "Topic_page[:1]"
      ]
    },
    {
      "cell_type": "markdown",
      "metadata": {
        "id": "yk5a-BDKKLCf"
      },
      "source": [
        "# #Fuctions For Topics"
      ]
    },
    {
      "cell_type": "code",
      "execution_count": null,
      "metadata": {
        "id": "KcL1j7JVKLCf"
      },
      "outputs": [],
      "source": [
        "#These Function Used For gathering Some Information\n",
        "#Like Title Of Topic,Description,Link Of each Topic\n",
        "\n",
        "#This Will Return Titles of Topic\n",
        "def gethead(h1):\n",
        "    lst=[]\n",
        "    pclass='f3 lh-condensed mb-0 mt-1 Link--primary'\n",
        "    h1tag=doc.find_all('p',{'class':pclass})\n",
        "    for i in h1tag:\n",
        "        lst.append(i.text.strip())\n",
        "    return lst\n",
        "\n",
        "##This Will Return Descriptions  of Topic\n",
        "def getdes(h1):\n",
        "    lst=[]\n",
        "    p2class='f5 color-fg-muted mb-0 mt-1'\n",
        "    des=doc.find_all('p',{'class':p2class})\n",
        "    for i in des:\n",
        "        lst.append(i.text.strip())\n",
        "    return lst\n",
        "\n",
        "#This Will Return Links of Topic\n",
        "def getlink(h1):\n",
        "    lst=[]\n",
        "    linkclass='no-underline flex-grow-0'\n",
        "    lin=doc.find_all('a',{'class':linkclass})\n",
        "    url='https://github.com/'\n",
        "    for i in lin:\n",
        "        lst.append(url+i['href'])\n",
        "    return lst"
      ]
    },
    {
      "cell_type": "markdown",
      "metadata": {
        "id": "WhpoIOIOKLCg"
      },
      "source": [
        "# Fetching Details"
      ]
    },
    {
      "cell_type": "code",
      "execution_count": null,
      "metadata": {
        "id": "3NdIovlBKLCh"
      },
      "outputs": [],
      "source": [
        "#Now We Are Fetching Topics Details\n",
        "Title=[]\n",
        "Description=[]\n",
        "Link=[]\n",
        "\n",
        "for page in Topic_page:\n",
        "    #Requesting Each Page\n",
        "    req=requests.get(page)\n",
        "    #checking status code of web\n",
        "    if req.status_code==200:\n",
        "        con=req.text\n",
        "        doc=soup(con,'html.parser')\n",
        "        Title.extend(gethead(doc))\n",
        "        Description.extend(getdes(doc))\n",
        "        Link.extend(getlink(doc))"
      ]
    },
    {
      "cell_type": "code",
      "execution_count": null,
      "metadata": {
        "colab": {
          "base_uri": "https://localhost:8080/"
        },
        "id": "FevF_8grKLCh",
        "outputId": "8ecd8178-889a-4ca5-d163-3d8b5a45e748"
      },
      "outputs": [
        {
          "name": "stdout",
          "output_type": "stream",
          "text": [
            "https://i.imgur.com/Azsyt6x.png\n"
          ]
        }
      ],
      "source": [
        "#Screen Short Of Topic Click on Link\n",
        "print('https://i.imgur.com/Azsyt6x.png')"
      ]
    },
    {
      "cell_type": "markdown",
      "metadata": {
        "id": "qo52B4JiKLCi"
      },
      "source": [
        "# Convert Into DataFrame"
      ]
    },
    {
      "cell_type": "code",
      "execution_count": null,
      "metadata": {
        "id": "O5Q2jjhNKLCi"
      },
      "outputs": [],
      "source": [
        "#Converting data into dictionary\n",
        "Dic={'Title':Title,'Description':Description ,'Link':Link}\n",
        "\n",
        "#Into Data Frame\n",
        "Dic=pd.DataFrame(Dic,index=None)"
      ]
    },
    {
      "cell_type": "code",
      "execution_count": null,
      "metadata": {
        "colab": {
          "base_uri": "https://localhost:8080/",
          "height": 206
        },
        "id": "Nbiwuu6YKLCi",
        "outputId": "e759c91d-c72a-4893-e527-e0f1ae00aa39"
      },
      "outputs": [
        {
          "data": {
            "text/html": [
              "\n",
              "  <div id=\"df-f3107126-014d-414d-be71-e69705831ccc\" class=\"colab-df-container\">\n",
              "    <div>\n",
              "<style scoped>\n",
              "    .dataframe tbody tr th:only-of-type {\n",
              "        vertical-align: middle;\n",
              "    }\n",
              "\n",
              "    .dataframe tbody tr th {\n",
              "        vertical-align: top;\n",
              "    }\n",
              "\n",
              "    .dataframe thead th {\n",
              "        text-align: right;\n",
              "    }\n",
              "</style>\n",
              "<table border=\"1\" class=\"dataframe\">\n",
              "  <thead>\n",
              "    <tr style=\"text-align: right;\">\n",
              "      <th></th>\n",
              "      <th>Title</th>\n",
              "      <th>Description</th>\n",
              "      <th>Link</th>\n",
              "    </tr>\n",
              "  </thead>\n",
              "  <tbody>\n",
              "    <tr>\n",
              "      <th>0</th>\n",
              "      <td>3D</td>\n",
              "      <td>3D refers to the use of three-dimensional grap...</td>\n",
              "      <td>https://github.com//topics/3d</td>\n",
              "    </tr>\n",
              "    <tr>\n",
              "      <th>1</th>\n",
              "      <td>Ajax</td>\n",
              "      <td>Ajax is a technique for creating interactive w...</td>\n",
              "      <td>https://github.com//topics/ajax</td>\n",
              "    </tr>\n",
              "    <tr>\n",
              "      <th>2</th>\n",
              "      <td>Algorithm</td>\n",
              "      <td>Algorithms are self-contained sequences that c...</td>\n",
              "      <td>https://github.com//topics/algorithm</td>\n",
              "    </tr>\n",
              "    <tr>\n",
              "      <th>3</th>\n",
              "      <td>Amp</td>\n",
              "      <td>Amp is a non-blocking concurrency library for ...</td>\n",
              "      <td>https://github.com//topics/amphp</td>\n",
              "    </tr>\n",
              "    <tr>\n",
              "      <th>4</th>\n",
              "      <td>Android</td>\n",
              "      <td>Android is an operating system built by Google...</td>\n",
              "      <td>https://github.com//topics/android</td>\n",
              "    </tr>\n",
              "  </tbody>\n",
              "</table>\n",
              "</div>\n",
              "    <div class=\"colab-df-buttons\">\n",
              "\n",
              "  <div class=\"colab-df-container\">\n",
              "    <button class=\"colab-df-convert\" onclick=\"convertToInteractive('df-f3107126-014d-414d-be71-e69705831ccc')\"\n",
              "            title=\"Convert this dataframe to an interactive table.\"\n",
              "            style=\"display:none;\">\n",
              "\n",
              "  <svg xmlns=\"http://www.w3.org/2000/svg\" height=\"24px\" viewBox=\"0 -960 960 960\">\n",
              "    <path d=\"M120-120v-720h720v720H120Zm60-500h600v-160H180v160Zm220 220h160v-160H400v160Zm0 220h160v-160H400v160ZM180-400h160v-160H180v160Zm440 0h160v-160H620v160ZM180-180h160v-160H180v160Zm440 0h160v-160H620v160Z\"/>\n",
              "  </svg>\n",
              "    </button>\n",
              "\n",
              "  <style>\n",
              "    .colab-df-container {\n",
              "      display:flex;\n",
              "      gap: 12px;\n",
              "    }\n",
              "\n",
              "    .colab-df-convert {\n",
              "      background-color: #E8F0FE;\n",
              "      border: none;\n",
              "      border-radius: 50%;\n",
              "      cursor: pointer;\n",
              "      display: none;\n",
              "      fill: #1967D2;\n",
              "      height: 32px;\n",
              "      padding: 0 0 0 0;\n",
              "      width: 32px;\n",
              "    }\n",
              "\n",
              "    .colab-df-convert:hover {\n",
              "      background-color: #E2EBFA;\n",
              "      box-shadow: 0px 1px 2px rgba(60, 64, 67, 0.3), 0px 1px 3px 1px rgba(60, 64, 67, 0.15);\n",
              "      fill: #174EA6;\n",
              "    }\n",
              "\n",
              "    .colab-df-buttons div {\n",
              "      margin-bottom: 4px;\n",
              "    }\n",
              "\n",
              "    [theme=dark] .colab-df-convert {\n",
              "      background-color: #3B4455;\n",
              "      fill: #D2E3FC;\n",
              "    }\n",
              "\n",
              "    [theme=dark] .colab-df-convert:hover {\n",
              "      background-color: #434B5C;\n",
              "      box-shadow: 0px 1px 3px 1px rgba(0, 0, 0, 0.15);\n",
              "      filter: drop-shadow(0px 1px 2px rgba(0, 0, 0, 0.3));\n",
              "      fill: #FFFFFF;\n",
              "    }\n",
              "  </style>\n",
              "\n",
              "    <script>\n",
              "      const buttonEl =\n",
              "        document.querySelector('#df-f3107126-014d-414d-be71-e69705831ccc button.colab-df-convert');\n",
              "      buttonEl.style.display =\n",
              "        google.colab.kernel.accessAllowed ? 'block' : 'none';\n",
              "\n",
              "      async function convertToInteractive(key) {\n",
              "        const element = document.querySelector('#df-f3107126-014d-414d-be71-e69705831ccc');\n",
              "        const dataTable =\n",
              "          await google.colab.kernel.invokeFunction('convertToInteractive',\n",
              "                                                    [key], {});\n",
              "        if (!dataTable) return;\n",
              "\n",
              "        const docLinkHtml = 'Like what you see? Visit the ' +\n",
              "          '<a target=\"_blank\" href=https://colab.research.google.com/notebooks/data_table.ipynb>data table notebook</a>'\n",
              "          + ' to learn more about interactive tables.';\n",
              "        element.innerHTML = '';\n",
              "        dataTable['output_type'] = 'display_data';\n",
              "        await google.colab.output.renderOutput(dataTable, element);\n",
              "        const docLink = document.createElement('div');\n",
              "        docLink.innerHTML = docLinkHtml;\n",
              "        element.appendChild(docLink);\n",
              "      }\n",
              "    </script>\n",
              "  </div>\n",
              "\n",
              "\n",
              "<div id=\"df-fda3a6ce-a9fa-4828-bd03-a43d611bd6ef\">\n",
              "  <button class=\"colab-df-quickchart\" onclick=\"quickchart('df-fda3a6ce-a9fa-4828-bd03-a43d611bd6ef')\"\n",
              "            title=\"Suggest charts.\"\n",
              "            style=\"display:none;\">\n",
              "\n",
              "<svg xmlns=\"http://www.w3.org/2000/svg\" height=\"24px\"viewBox=\"0 0 24 24\"\n",
              "     width=\"24px\">\n",
              "    <g>\n",
              "        <path d=\"M19 3H5c-1.1 0-2 .9-2 2v14c0 1.1.9 2 2 2h14c1.1 0 2-.9 2-2V5c0-1.1-.9-2-2-2zM9 17H7v-7h2v7zm4 0h-2V7h2v10zm4 0h-2v-4h2v4z\"/>\n",
              "    </g>\n",
              "</svg>\n",
              "  </button>\n",
              "\n",
              "<style>\n",
              "  .colab-df-quickchart {\n",
              "      --bg-color: #E8F0FE;\n",
              "      --fill-color: #1967D2;\n",
              "      --hover-bg-color: #E2EBFA;\n",
              "      --hover-fill-color: #174EA6;\n",
              "      --disabled-fill-color: #AAA;\n",
              "      --disabled-bg-color: #DDD;\n",
              "  }\n",
              "\n",
              "  [theme=dark] .colab-df-quickchart {\n",
              "      --bg-color: #3B4455;\n",
              "      --fill-color: #D2E3FC;\n",
              "      --hover-bg-color: #434B5C;\n",
              "      --hover-fill-color: #FFFFFF;\n",
              "      --disabled-bg-color: #3B4455;\n",
              "      --disabled-fill-color: #666;\n",
              "  }\n",
              "\n",
              "  .colab-df-quickchart {\n",
              "    background-color: var(--bg-color);\n",
              "    border: none;\n",
              "    border-radius: 50%;\n",
              "    cursor: pointer;\n",
              "    display: none;\n",
              "    fill: var(--fill-color);\n",
              "    height: 32px;\n",
              "    padding: 0;\n",
              "    width: 32px;\n",
              "  }\n",
              "\n",
              "  .colab-df-quickchart:hover {\n",
              "    background-color: var(--hover-bg-color);\n",
              "    box-shadow: 0 1px 2px rgba(60, 64, 67, 0.3), 0 1px 3px 1px rgba(60, 64, 67, 0.15);\n",
              "    fill: var(--button-hover-fill-color);\n",
              "  }\n",
              "\n",
              "  .colab-df-quickchart-complete:disabled,\n",
              "  .colab-df-quickchart-complete:disabled:hover {\n",
              "    background-color: var(--disabled-bg-color);\n",
              "    fill: var(--disabled-fill-color);\n",
              "    box-shadow: none;\n",
              "  }\n",
              "\n",
              "  .colab-df-spinner {\n",
              "    border: 2px solid var(--fill-color);\n",
              "    border-color: transparent;\n",
              "    border-bottom-color: var(--fill-color);\n",
              "    animation:\n",
              "      spin 1s steps(1) infinite;\n",
              "  }\n",
              "\n",
              "  @keyframes spin {\n",
              "    0% {\n",
              "      border-color: transparent;\n",
              "      border-bottom-color: var(--fill-color);\n",
              "      border-left-color: var(--fill-color);\n",
              "    }\n",
              "    20% {\n",
              "      border-color: transparent;\n",
              "      border-left-color: var(--fill-color);\n",
              "      border-top-color: var(--fill-color);\n",
              "    }\n",
              "    30% {\n",
              "      border-color: transparent;\n",
              "      border-left-color: var(--fill-color);\n",
              "      border-top-color: var(--fill-color);\n",
              "      border-right-color: var(--fill-color);\n",
              "    }\n",
              "    40% {\n",
              "      border-color: transparent;\n",
              "      border-right-color: var(--fill-color);\n",
              "      border-top-color: var(--fill-color);\n",
              "    }\n",
              "    60% {\n",
              "      border-color: transparent;\n",
              "      border-right-color: var(--fill-color);\n",
              "    }\n",
              "    80% {\n",
              "      border-color: transparent;\n",
              "      border-right-color: var(--fill-color);\n",
              "      border-bottom-color: var(--fill-color);\n",
              "    }\n",
              "    90% {\n",
              "      border-color: transparent;\n",
              "      border-bottom-color: var(--fill-color);\n",
              "    }\n",
              "  }\n",
              "</style>\n",
              "\n",
              "  <script>\n",
              "    async function quickchart(key) {\n",
              "      const quickchartButtonEl =\n",
              "        document.querySelector('#' + key + ' button');\n",
              "      quickchartButtonEl.disabled = true;  // To prevent multiple clicks.\n",
              "      quickchartButtonEl.classList.add('colab-df-spinner');\n",
              "      try {\n",
              "        const charts = await google.colab.kernel.invokeFunction(\n",
              "            'suggestCharts', [key], {});\n",
              "      } catch (error) {\n",
              "        console.error('Error during call to suggestCharts:', error);\n",
              "      }\n",
              "      quickchartButtonEl.classList.remove('colab-df-spinner');\n",
              "      quickchartButtonEl.classList.add('colab-df-quickchart-complete');\n",
              "    }\n",
              "    (() => {\n",
              "      let quickchartButtonEl =\n",
              "        document.querySelector('#df-fda3a6ce-a9fa-4828-bd03-a43d611bd6ef button');\n",
              "      quickchartButtonEl.style.display =\n",
              "        google.colab.kernel.accessAllowed ? 'block' : 'none';\n",
              "    })();\n",
              "  </script>\n",
              "</div>\n",
              "    </div>\n",
              "  </div>\n"
            ],
            "text/plain": [
              "       Title                                        Description  \\\n",
              "0         3D  3D refers to the use of three-dimensional grap...   \n",
              "1       Ajax  Ajax is a technique for creating interactive w...   \n",
              "2  Algorithm  Algorithms are self-contained sequences that c...   \n",
              "3        Amp  Amp is a non-blocking concurrency library for ...   \n",
              "4    Android  Android is an operating system built by Google...   \n",
              "\n",
              "                                   Link  \n",
              "0         https://github.com//topics/3d  \n",
              "1       https://github.com//topics/ajax  \n",
              "2  https://github.com//topics/algorithm  \n",
              "3      https://github.com//topics/amphp  \n",
              "4    https://github.com//topics/android  "
            ]
          },
          "execution_count": 11,
          "metadata": {},
          "output_type": "execute_result"
        }
      ],
      "source": [
        "Dic[:5]"
      ]
    },
    {
      "cell_type": "code",
      "execution_count": null,
      "metadata": {
        "id": "zz2UE_7AKLCj"
      },
      "outputs": [],
      "source": [
        "#Creating forlder for saving data\n",
        "os.makedirs('Data',exist_ok=True)\n",
        "\n",
        "# Now To csv\n",
        "Dic.to_csv('Data/Topics.csv')"
      ]
    },
    {
      "cell_type": "markdown",
      "metadata": {
        "id": "MkIeo5PFKLCk"
      },
      "source": [
        "# Fetching Csv That We Have Created Previous"
      ]
    },
    {
      "cell_type": "code",
      "execution_count": null,
      "metadata": {
        "id": "nrsajqsKKLCk"
      },
      "outputs": [],
      "source": [
        "Topic_csv= pd.read_csv('Data/Topics.csv')"
      ]
    },
    {
      "cell_type": "code",
      "execution_count": null,
      "metadata": {
        "colab": {
          "base_uri": "https://localhost:8080/",
          "height": 206
        },
        "id": "xyPy3lWHKLCl",
        "outputId": "cbaf7ab3-10e9-4059-94de-71846e96ae42"
      },
      "outputs": [
        {
          "data": {
            "text/html": [
              "\n",
              "  <div id=\"df-706bf0b6-c2af-47ca-a6fa-f182a689d3a0\" class=\"colab-df-container\">\n",
              "    <div>\n",
              "<style scoped>\n",
              "    .dataframe tbody tr th:only-of-type {\n",
              "        vertical-align: middle;\n",
              "    }\n",
              "\n",
              "    .dataframe tbody tr th {\n",
              "        vertical-align: top;\n",
              "    }\n",
              "\n",
              "    .dataframe thead th {\n",
              "        text-align: right;\n",
              "    }\n",
              "</style>\n",
              "<table border=\"1\" class=\"dataframe\">\n",
              "  <thead>\n",
              "    <tr style=\"text-align: right;\">\n",
              "      <th></th>\n",
              "      <th>Unnamed: 0</th>\n",
              "      <th>Title</th>\n",
              "      <th>Description</th>\n",
              "      <th>Link</th>\n",
              "    </tr>\n",
              "  </thead>\n",
              "  <tbody>\n",
              "    <tr>\n",
              "      <th>0</th>\n",
              "      <td>0</td>\n",
              "      <td>3D</td>\n",
              "      <td>3D refers to the use of three-dimensional grap...</td>\n",
              "      <td>https://github.com//topics/3d</td>\n",
              "    </tr>\n",
              "    <tr>\n",
              "      <th>1</th>\n",
              "      <td>1</td>\n",
              "      <td>Ajax</td>\n",
              "      <td>Ajax is a technique for creating interactive w...</td>\n",
              "      <td>https://github.com//topics/ajax</td>\n",
              "    </tr>\n",
              "    <tr>\n",
              "      <th>2</th>\n",
              "      <td>2</td>\n",
              "      <td>Algorithm</td>\n",
              "      <td>Algorithms are self-contained sequences that c...</td>\n",
              "      <td>https://github.com//topics/algorithm</td>\n",
              "    </tr>\n",
              "    <tr>\n",
              "      <th>3</th>\n",
              "      <td>3</td>\n",
              "      <td>Amp</td>\n",
              "      <td>Amp is a non-blocking concurrency library for ...</td>\n",
              "      <td>https://github.com//topics/amphp</td>\n",
              "    </tr>\n",
              "    <tr>\n",
              "      <th>4</th>\n",
              "      <td>4</td>\n",
              "      <td>Android</td>\n",
              "      <td>Android is an operating system built by Google...</td>\n",
              "      <td>https://github.com//topics/android</td>\n",
              "    </tr>\n",
              "  </tbody>\n",
              "</table>\n",
              "</div>\n",
              "    <div class=\"colab-df-buttons\">\n",
              "\n",
              "  <div class=\"colab-df-container\">\n",
              "    <button class=\"colab-df-convert\" onclick=\"convertToInteractive('df-706bf0b6-c2af-47ca-a6fa-f182a689d3a0')\"\n",
              "            title=\"Convert this dataframe to an interactive table.\"\n",
              "            style=\"display:none;\">\n",
              "\n",
              "  <svg xmlns=\"http://www.w3.org/2000/svg\" height=\"24px\" viewBox=\"0 -960 960 960\">\n",
              "    <path d=\"M120-120v-720h720v720H120Zm60-500h600v-160H180v160Zm220 220h160v-160H400v160Zm0 220h160v-160H400v160ZM180-400h160v-160H180v160Zm440 0h160v-160H620v160ZM180-180h160v-160H180v160Zm440 0h160v-160H620v160Z\"/>\n",
              "  </svg>\n",
              "    </button>\n",
              "\n",
              "  <style>\n",
              "    .colab-df-container {\n",
              "      display:flex;\n",
              "      gap: 12px;\n",
              "    }\n",
              "\n",
              "    .colab-df-convert {\n",
              "      background-color: #E8F0FE;\n",
              "      border: none;\n",
              "      border-radius: 50%;\n",
              "      cursor: pointer;\n",
              "      display: none;\n",
              "      fill: #1967D2;\n",
              "      height: 32px;\n",
              "      padding: 0 0 0 0;\n",
              "      width: 32px;\n",
              "    }\n",
              "\n",
              "    .colab-df-convert:hover {\n",
              "      background-color: #E2EBFA;\n",
              "      box-shadow: 0px 1px 2px rgba(60, 64, 67, 0.3), 0px 1px 3px 1px rgba(60, 64, 67, 0.15);\n",
              "      fill: #174EA6;\n",
              "    }\n",
              "\n",
              "    .colab-df-buttons div {\n",
              "      margin-bottom: 4px;\n",
              "    }\n",
              "\n",
              "    [theme=dark] .colab-df-convert {\n",
              "      background-color: #3B4455;\n",
              "      fill: #D2E3FC;\n",
              "    }\n",
              "\n",
              "    [theme=dark] .colab-df-convert:hover {\n",
              "      background-color: #434B5C;\n",
              "      box-shadow: 0px 1px 3px 1px rgba(0, 0, 0, 0.15);\n",
              "      filter: drop-shadow(0px 1px 2px rgba(0, 0, 0, 0.3));\n",
              "      fill: #FFFFFF;\n",
              "    }\n",
              "  </style>\n",
              "\n",
              "    <script>\n",
              "      const buttonEl =\n",
              "        document.querySelector('#df-706bf0b6-c2af-47ca-a6fa-f182a689d3a0 button.colab-df-convert');\n",
              "      buttonEl.style.display =\n",
              "        google.colab.kernel.accessAllowed ? 'block' : 'none';\n",
              "\n",
              "      async function convertToInteractive(key) {\n",
              "        const element = document.querySelector('#df-706bf0b6-c2af-47ca-a6fa-f182a689d3a0');\n",
              "        const dataTable =\n",
              "          await google.colab.kernel.invokeFunction('convertToInteractive',\n",
              "                                                    [key], {});\n",
              "        if (!dataTable) return;\n",
              "\n",
              "        const docLinkHtml = 'Like what you see? Visit the ' +\n",
              "          '<a target=\"_blank\" href=https://colab.research.google.com/notebooks/data_table.ipynb>data table notebook</a>'\n",
              "          + ' to learn more about interactive tables.';\n",
              "        element.innerHTML = '';\n",
              "        dataTable['output_type'] = 'display_data';\n",
              "        await google.colab.output.renderOutput(dataTable, element);\n",
              "        const docLink = document.createElement('div');\n",
              "        docLink.innerHTML = docLinkHtml;\n",
              "        element.appendChild(docLink);\n",
              "      }\n",
              "    </script>\n",
              "  </div>\n",
              "\n",
              "\n",
              "<div id=\"df-6fd0fe8a-5be0-4df2-ab4c-e9c24fce9b44\">\n",
              "  <button class=\"colab-df-quickchart\" onclick=\"quickchart('df-6fd0fe8a-5be0-4df2-ab4c-e9c24fce9b44')\"\n",
              "            title=\"Suggest charts.\"\n",
              "            style=\"display:none;\">\n",
              "\n",
              "<svg xmlns=\"http://www.w3.org/2000/svg\" height=\"24px\"viewBox=\"0 0 24 24\"\n",
              "     width=\"24px\">\n",
              "    <g>\n",
              "        <path d=\"M19 3H5c-1.1 0-2 .9-2 2v14c0 1.1.9 2 2 2h14c1.1 0 2-.9 2-2V5c0-1.1-.9-2-2-2zM9 17H7v-7h2v7zm4 0h-2V7h2v10zm4 0h-2v-4h2v4z\"/>\n",
              "    </g>\n",
              "</svg>\n",
              "  </button>\n",
              "\n",
              "<style>\n",
              "  .colab-df-quickchart {\n",
              "      --bg-color: #E8F0FE;\n",
              "      --fill-color: #1967D2;\n",
              "      --hover-bg-color: #E2EBFA;\n",
              "      --hover-fill-color: #174EA6;\n",
              "      --disabled-fill-color: #AAA;\n",
              "      --disabled-bg-color: #DDD;\n",
              "  }\n",
              "\n",
              "  [theme=dark] .colab-df-quickchart {\n",
              "      --bg-color: #3B4455;\n",
              "      --fill-color: #D2E3FC;\n",
              "      --hover-bg-color: #434B5C;\n",
              "      --hover-fill-color: #FFFFFF;\n",
              "      --disabled-bg-color: #3B4455;\n",
              "      --disabled-fill-color: #666;\n",
              "  }\n",
              "\n",
              "  .colab-df-quickchart {\n",
              "    background-color: var(--bg-color);\n",
              "    border: none;\n",
              "    border-radius: 50%;\n",
              "    cursor: pointer;\n",
              "    display: none;\n",
              "    fill: var(--fill-color);\n",
              "    height: 32px;\n",
              "    padding: 0;\n",
              "    width: 32px;\n",
              "  }\n",
              "\n",
              "  .colab-df-quickchart:hover {\n",
              "    background-color: var(--hover-bg-color);\n",
              "    box-shadow: 0 1px 2px rgba(60, 64, 67, 0.3), 0 1px 3px 1px rgba(60, 64, 67, 0.15);\n",
              "    fill: var(--button-hover-fill-color);\n",
              "  }\n",
              "\n",
              "  .colab-df-quickchart-complete:disabled,\n",
              "  .colab-df-quickchart-complete:disabled:hover {\n",
              "    background-color: var(--disabled-bg-color);\n",
              "    fill: var(--disabled-fill-color);\n",
              "    box-shadow: none;\n",
              "  }\n",
              "\n",
              "  .colab-df-spinner {\n",
              "    border: 2px solid var(--fill-color);\n",
              "    border-color: transparent;\n",
              "    border-bottom-color: var(--fill-color);\n",
              "    animation:\n",
              "      spin 1s steps(1) infinite;\n",
              "  }\n",
              "\n",
              "  @keyframes spin {\n",
              "    0% {\n",
              "      border-color: transparent;\n",
              "      border-bottom-color: var(--fill-color);\n",
              "      border-left-color: var(--fill-color);\n",
              "    }\n",
              "    20% {\n",
              "      border-color: transparent;\n",
              "      border-left-color: var(--fill-color);\n",
              "      border-top-color: var(--fill-color);\n",
              "    }\n",
              "    30% {\n",
              "      border-color: transparent;\n",
              "      border-left-color: var(--fill-color);\n",
              "      border-top-color: var(--fill-color);\n",
              "      border-right-color: var(--fill-color);\n",
              "    }\n",
              "    40% {\n",
              "      border-color: transparent;\n",
              "      border-right-color: var(--fill-color);\n",
              "      border-top-color: var(--fill-color);\n",
              "    }\n",
              "    60% {\n",
              "      border-color: transparent;\n",
              "      border-right-color: var(--fill-color);\n",
              "    }\n",
              "    80% {\n",
              "      border-color: transparent;\n",
              "      border-right-color: var(--fill-color);\n",
              "      border-bottom-color: var(--fill-color);\n",
              "    }\n",
              "    90% {\n",
              "      border-color: transparent;\n",
              "      border-bottom-color: var(--fill-color);\n",
              "    }\n",
              "  }\n",
              "</style>\n",
              "\n",
              "  <script>\n",
              "    async function quickchart(key) {\n",
              "      const quickchartButtonEl =\n",
              "        document.querySelector('#' + key + ' button');\n",
              "      quickchartButtonEl.disabled = true;  // To prevent multiple clicks.\n",
              "      quickchartButtonEl.classList.add('colab-df-spinner');\n",
              "      try {\n",
              "        const charts = await google.colab.kernel.invokeFunction(\n",
              "            'suggestCharts', [key], {});\n",
              "      } catch (error) {\n",
              "        console.error('Error during call to suggestCharts:', error);\n",
              "      }\n",
              "      quickchartButtonEl.classList.remove('colab-df-spinner');\n",
              "      quickchartButtonEl.classList.add('colab-df-quickchart-complete');\n",
              "    }\n",
              "    (() => {\n",
              "      let quickchartButtonEl =\n",
              "        document.querySelector('#df-6fd0fe8a-5be0-4df2-ab4c-e9c24fce9b44 button');\n",
              "      quickchartButtonEl.style.display =\n",
              "        google.colab.kernel.accessAllowed ? 'block' : 'none';\n",
              "    })();\n",
              "  </script>\n",
              "</div>\n",
              "    </div>\n",
              "  </div>\n"
            ],
            "text/plain": [
              "   Unnamed: 0      Title                                        Description  \\\n",
              "0           0         3D  3D refers to the use of three-dimensional grap...   \n",
              "1           1       Ajax  Ajax is a technique for creating interactive w...   \n",
              "2           2  Algorithm  Algorithms are self-contained sequences that c...   \n",
              "3           3        Amp  Amp is a non-blocking concurrency library for ...   \n",
              "4           4    Android  Android is an operating system built by Google...   \n",
              "\n",
              "                                   Link  \n",
              "0         https://github.com//topics/3d  \n",
              "1       https://github.com//topics/ajax  \n",
              "2  https://github.com//topics/algorithm  \n",
              "3      https://github.com//topics/amphp  \n",
              "4    https://github.com//topics/android  "
            ]
          },
          "execution_count": 14,
          "metadata": {},
          "output_type": "execute_result"
        }
      ],
      "source": [
        "Topic_csv[:5]"
      ]
    },
    {
      "cell_type": "code",
      "execution_count": null,
      "metadata": {
        "colab": {
          "base_uri": "https://localhost:8080/"
        },
        "id": "PrlKNbpVKLCl",
        "outputId": "3f00052d-5267-47c9-ce32-b59962a3ec15"
      },
      "outputs": [
        {
          "name": "stdout",
          "output_type": "stream",
          "text": [
            "https://i.imgur.com/lozUBvh.png\n"
          ]
        }
      ],
      "source": [
        "# Now Time To Fetch From Topics Link\n",
        "# Se We have Username,repository stc\n",
        "print('https://i.imgur.com/lozUBvh.png')"
      ]
    },
    {
      "cell_type": "markdown",
      "metadata": {
        "id": "i2Pezgt2KLCl"
      },
      "source": [
        "# fetch the Username,Repository,Link of Topic From Functions"
      ]
    },
    {
      "cell_type": "code",
      "execution_count": null,
      "metadata": {
        "id": "ULeRViuhKLCm"
      },
      "outputs": [],
      "source": [
        "\n",
        "def Urepo(repo):\n",
        "    htag=repo.find_all('a')\n",
        "    user=htag[0].text.strip()\n",
        "    repo=htag[1].text.strip()\n",
        "    lin='https://github.com'+htag[1]['href']\n",
        "    return user,repo,lin\n",
        "\n",
        "#fetch the Rating Star from the Repo of Topic\n",
        "def star (st):\n",
        "    if st[-1:]=='k':\n",
        "        st=st[:-1]\n",
        "        st=float(st)\n",
        "        st=int(st*1000)\n",
        "        return st"
      ]
    },
    {
      "cell_type": "code",
      "execution_count": null,
      "metadata": {
        "id": "xnxxjw0LKLCm"
      },
      "outputs": [],
      "source": [
        "# Fuction Which  Do All Complex Work By It\n",
        "\n",
        "def  repodetails(doc,tit):\n",
        "    req=requests.get(doc)\n",
        "    con=req.text\n",
        "    doc=soup(con,'html.parser')\n",
        "    dic={'user':[],'repo':[],'star':[],'link':[]}\n",
        "    tclass='f3 color-fg-muted text-normal lh-condensed'\n",
        "    title=doc.find_all('h3',{'class':tclass})\n",
        "\n",
        "    for i in title:\n",
        "        us,re,li=Urepo(i)\n",
        "        dic['user'].append(us)\n",
        "        dic['repo'].append(re)\n",
        "        dic['link'].append(li)\n",
        "\n",
        "    sclass='Counter js-social-count'\n",
        "    sst=doc.find_all('span',{'class':sclass})\n",
        "\n",
        "    for i in sst:\n",
        "        dic['star'].append(star(i.text))\n",
        "\n",
        "    #creating folder for each topic\n",
        "    os.makedirs('Data/'+tit, exist_ok=True)\n",
        "    df=pd.DataFrame(dic)\n",
        "    df.to_csv('Data/'+tit+'/'+tit+'.csv')\n",
        "    print(f'Scrapping of This Topic -{tit} Is Done')"
      ]
    },
    {
      "cell_type": "markdown",
      "metadata": {
        "id": "zDMD3nFEKLCm"
      },
      "source": [
        "# Let's Begin The Show"
      ]
    },
    {
      "cell_type": "code",
      "execution_count": null,
      "metadata": {
        "id": "C0ERG63NLJIB"
      },
      "outputs": [],
      "source": [
        "from google.colab import drive\n",
        "drive.mount('/content/drive')"
      ]
    },
    {
      "cell_type": "code",
      "execution_count": null,
      "metadata": {
        "colab": {
          "base_uri": "https://localhost:8080/"
        },
        "id": "qpXQkGzCKLCm",
        "outputId": "2213071a-0599-4e25-97cd-ad1b109adb6a"
      },
      "outputs": [
        {
          "name": "stdout",
          "output_type": "stream",
          "text": [
            "Scrapping of This Topic -3D Is Done\n",
            "Scrapping of This Topic -Ajax Is Done\n",
            "Scrapping of This Topic -Algorithm Is Done\n",
            "Scrapping of This Topic -Amp Is Done\n",
            "Scrapping of This Topic -Android Is Done\n",
            "Scrapping of This Topic -Angular Is Done\n",
            "Scrapping of This Topic -Ansible Is Done\n",
            "Scrapping of This Topic -API Is Done\n",
            "Scrapping of This Topic -Arduino Is Done\n",
            "Scrapping of This Topic -ASP.NET Is Done\n",
            "Scrapping of This Topic -Atom Is Done\n",
            "Scrapping of This Topic -Awesome Lists Is Done\n",
            "Scrapping of This Topic -Amazon Web Services Is Done\n",
            "Scrapping of This Topic -Azure Is Done\n",
            "Scrapping of This Topic -Babel Is Done\n",
            "Scrapping of This Topic -Bash Is Done\n",
            "Scrapping of This Topic -Bitcoin Is Done\n",
            "Scrapping of This Topic -Bootstrap Is Done\n",
            "Scrapping of This Topic -Bot Is Done\n",
            "Scrapping of This Topic -C Is Done\n",
            "Scrapping of This Topic -Chrome Is Done\n",
            "Scrapping of This Topic -Chrome extension Is Done\n",
            "Scrapping of This Topic -Command line interface Is Done\n",
            "Scrapping of This Topic -Clojure Is Done\n",
            "Scrapping of This Topic -Code quality Is Done\n",
            "Scrapping of This Topic -Code review Is Done\n",
            "Scrapping of This Topic -Compiler Is Done\n",
            "Scrapping of This Topic -Continuous integration Is Done\n",
            "Scrapping of This Topic -COVID-19 Is Done\n",
            "Scrapping of This Topic -C++ Is Done\n",
            "Scrapping of This Topic -Cryptocurrency Is Done\n",
            "Scrapping of This Topic -Crystal Is Done\n",
            "Scrapping of This Topic -C# Is Done\n",
            "Scrapping of This Topic -CSS Is Done\n",
            "Scrapping of This Topic -Data structures Is Done\n",
            "Scrapping of This Topic -Data visualization Is Done\n",
            "Scrapping of This Topic -Database Is Done\n",
            "Scrapping of This Topic -Deep learning Is Done\n",
            "Scrapping of This Topic -Dependency management Is Done\n",
            "Scrapping of This Topic -Deployment Is Done\n",
            "Scrapping of This Topic -Django Is Done\n",
            "Scrapping of This Topic -Docker Is Done\n",
            "Scrapping of This Topic -Documentation Is Done\n",
            "Scrapping of This Topic -.NET Is Done\n",
            "Scrapping of This Topic -Electron Is Done\n",
            "Scrapping of This Topic -Elixir Is Done\n",
            "Scrapping of This Topic -Emacs Is Done\n",
            "Scrapping of This Topic -Ember Is Done\n",
            "Scrapping of This Topic -Emoji Is Done\n",
            "Scrapping of This Topic -Emulator Is Done\n",
            "Scrapping of This Topic -ESLint Is Done\n",
            "Scrapping of This Topic -Ethereum Is Done\n",
            "Scrapping of This Topic -Express Is Done\n",
            "Scrapping of This Topic -Firebase Is Done\n",
            "Scrapping of This Topic -Firefox Is Done\n",
            "Scrapping of This Topic -Flask Is Done\n",
            "Scrapping of This Topic -Font Is Done\n",
            "Scrapping of This Topic -Framework Is Done\n",
            "Scrapping of This Topic -Front end Is Done\n",
            "Scrapping of This Topic -Game engine Is Done\n",
            "Scrapping of This Topic -Git Is Done\n",
            "Scrapping of This Topic -GitHub API Is Done\n",
            "Scrapping of This Topic -Go Is Done\n",
            "Scrapping of This Topic -Google Is Done\n",
            "Scrapping of This Topic -Gradle Is Done\n",
            "Scrapping of This Topic -GraphQL Is Done\n",
            "Scrapping of This Topic -Gulp Is Done\n",
            "Scrapping of This Topic -Hacktoberfest Is Done\n",
            "Scrapping of This Topic -Haskell Is Done\n",
            "Scrapping of This Topic -Homebrew Is Done\n",
            "Scrapping of This Topic -Homebridge Is Done\n",
            "Scrapping of This Topic -HTML Is Done\n",
            "Scrapping of This Topic -HTTP Is Done\n",
            "Scrapping of This Topic -Icon font Is Done\n",
            "Scrapping of This Topic -iOS Is Done\n",
            "Scrapping of This Topic -IPFS Is Done\n",
            "Scrapping of This Topic -Java Is Done\n",
            "Scrapping of This Topic -JavaScript Is Done\n",
            "Scrapping of This Topic -Jekyll Is Done\n",
            "Scrapping of This Topic -jQuery Is Done\n",
            "Scrapping of This Topic -JSON Is Done\n",
            "Scrapping of This Topic -The Julia Language Is Done\n",
            "Scrapping of This Topic -Jupyter Notebook Is Done\n",
            "Scrapping of This Topic -Koa Is Done\n",
            "Scrapping of This Topic -Kotlin Is Done\n",
            "Scrapping of This Topic -Kubernetes Is Done\n",
            "Scrapping of This Topic -Laravel Is Done\n",
            "Scrapping of This Topic -LaTeX Is Done\n",
            "Scrapping of This Topic -Library Is Done\n",
            "Scrapping of This Topic -Linux Is Done\n",
            "Scrapping of This Topic -Localization (l10n) Is Done\n",
            "Scrapping of This Topic -Lua Is Done\n",
            "Scrapping of This Topic -Machine learning Is Done\n",
            "Scrapping of This Topic -macOS Is Done\n",
            "Scrapping of This Topic -Markdown Is Done\n",
            "Scrapping of This Topic -Mastodon Is Done\n",
            "Scrapping of This Topic -Material Design Is Done\n",
            "Scrapping of This Topic -MATLAB Is Done\n",
            "Scrapping of This Topic -Maven Is Done\n",
            "Scrapping of This Topic -Minecraft Is Done\n",
            "Scrapping of This Topic -Mobile Is Done\n",
            "Scrapping of This Topic -Monero Is Done\n",
            "Scrapping of This Topic -MongoDB Is Done\n",
            "Scrapping of This Topic -Mongoose Is Done\n",
            "Scrapping of This Topic -Monitoring Is Done\n",
            "Scrapping of This Topic -MvvmCross Is Done\n",
            "Scrapping of This Topic -MySQL Is Done\n",
            "Scrapping of This Topic -NativeScript Is Done\n",
            "Scrapping of This Topic -Nim Is Done\n",
            "Scrapping of This Topic -Natural language processing Is Done\n",
            "Scrapping of This Topic -Node.js Is Done\n",
            "Scrapping of This Topic -NoSQL Is Done\n",
            "Scrapping of This Topic -npm Is Done\n",
            "Scrapping of This Topic -Objective-C Is Done\n",
            "Scrapping of This Topic -OpenGL Is Done\n",
            "Scrapping of This Topic -Operating system Is Done\n",
            "Scrapping of This Topic -P2P Is Done\n",
            "Scrapping of This Topic -Package manager Is Done\n",
            "Scrapping of This Topic -Parsing Is Done\n",
            "Scrapping of This Topic -Perl Is Done\n",
            "Scrapping of This Topic -Phaser Is Done\n",
            "Scrapping of This Topic -PHP Is Done\n",
            "Scrapping of This Topic -PICO-8 Is Done\n",
            "Scrapping of This Topic -Pixel Art Is Done\n",
            "Scrapping of This Topic -PostgreSQL Is Done\n",
            "Scrapping of This Topic -Project management Is Done\n",
            "Scrapping of This Topic -Publishing Is Done\n",
            "Scrapping of This Topic -PWA Is Done\n",
            "Scrapping of This Topic -Python Is Done\n",
            "Scrapping of This Topic -Qt Is Done\n",
            "Scrapping of This Topic -R Is Done\n",
            "Scrapping of This Topic -Rails Is Done\n",
            "Scrapping of This Topic -Raspberry Pi Is Done\n",
            "Scrapping of This Topic -Ratchet Is Done\n",
            "Scrapping of This Topic -React Is Done\n",
            "Scrapping of This Topic -React Native Is Done\n",
            "Scrapping of This Topic -ReactiveUI Is Done\n",
            "Scrapping of This Topic -Redux Is Done\n",
            "Scrapping of This Topic -REST API Is Done\n",
            "Scrapping of This Topic -Ruby Is Done\n",
            "Scrapping of This Topic -Rust Is Done\n",
            "Scrapping of This Topic -Sass Is Done\n",
            "Scrapping of This Topic -Scala Is Done\n",
            "Scrapping of This Topic -scikit-learn Is Done\n",
            "Scrapping of This Topic -Software-defined networking Is Done\n",
            "Scrapping of This Topic -Security Is Done\n",
            "Scrapping of This Topic -Server Is Done\n",
            "Scrapping of This Topic -Serverless Is Done\n",
            "Scrapping of This Topic -Shell Is Done\n",
            "Scrapping of This Topic -Sketch Is Done\n",
            "Scrapping of This Topic -SpaceVim Is Done\n",
            "Scrapping of This Topic -Spring Boot Is Done\n",
            "Scrapping of This Topic -SQL Is Done\n",
            "Scrapping of This Topic -Storybook Is Done\n",
            "Scrapping of This Topic -Support Is Done\n",
            "Scrapping of This Topic -Swift Is Done\n",
            "Scrapping of This Topic -Symfony Is Done\n",
            "Scrapping of This Topic -Telegram Is Done\n",
            "Scrapping of This Topic -Tensorflow Is Done\n",
            "Scrapping of This Topic -Terminal Is Done\n",
            "Scrapping of This Topic -Terraform Is Done\n",
            "Scrapping of This Topic -Testing Is Done\n",
            "Scrapping of This Topic -Twitter Is Done\n",
            "Scrapping of This Topic -TypeScript Is Done\n",
            "Scrapping of This Topic -Ubuntu Is Done\n",
            "Scrapping of This Topic -Unity Is Done\n",
            "Scrapping of This Topic -Unreal Engine Is Done\n",
            "Scrapping of This Topic -Vagrant Is Done\n",
            "Scrapping of This Topic -Vim Is Done\n",
            "Scrapping of This Topic -Virtual reality Is Done\n",
            "Scrapping of This Topic -Vue.js Is Done\n",
            "Scrapping of This Topic -Wagtail Is Done\n",
            "Scrapping of This Topic -Web Components Is Done\n",
            "Scrapping of This Topic -Web app Is Done\n",
            "Scrapping of This Topic -Webpack Is Done\n",
            "Scrapping of This Topic -Windows Is Done\n",
            "Scrapping of This Topic -WordPlate Is Done\n",
            "Scrapping of This Topic -WordPress Is Done\n",
            "Scrapping of This Topic -Xamarin Is Done\n",
            "Scrapping of This Topic -XML Is Done\n"
          ]
        }
      ],
      "source": [
        "#Now Fetching All The Topic Deatils With Folder\n",
        "for index, row in Topic_csv.iterrows():\n",
        "    repodetails(row['Link'],row['Title'])"
      ]
    },
    {
      "cell_type": "code",
      "execution_count": null,
      "metadata": {
        "id": "h8TKfvRAKLCm"
      },
      "outputs": [],
      "source": []
    },
    {
      "cell_type": "code",
      "execution_count": null,
      "metadata": {
        "colab": {
          "base_uri": "https://localhost:8080/"
        },
        "id": "OgmArRE0KLCn",
        "outputId": "53ae73f4-092b-4254-e1e6-66c13705d1b8"
      },
      "outputs": [
        {
          "name": "stdout",
          "output_type": "stream",
          "text": [
            "https://i.imgur.com/5S3eMcz.png\n"
          ]
        }
      ],
      "source": [
        "#Snapshort Of Folder\n",
        "print('https://i.imgur.com/5S3eMcz.png')"
      ]
    },
    {
      "cell_type": "code",
      "execution_count": null,
      "metadata": {
        "colab": {
          "base_uri": "https://localhost:8080/"
        },
        "id": "5QE_nag4KLCn",
        "outputId": "794920a7-a5f7-4fb5-8d5b-087e20ff46a9"
      },
      "outputs": [
        {
          "name": "stdout",
          "output_type": "stream",
          "text": [
            "https://i.imgur.com/ViVFxlf.png\n"
          ]
        }
      ],
      "source": [
        "#Snapshort Of Csv File\n",
        "print('https://i.imgur.com/ViVFxlf.png')"
      ]
    },
    {
      "cell_type": "code",
      "execution_count": null,
      "metadata": {
        "id": "JVbJ3h2PKLCn"
      },
      "outputs": [],
      "source": []
    },
    {
      "cell_type": "code",
      "execution_count": null,
      "metadata": {
        "id": "aQ0_YG-bL9DO"
      },
      "outputs": [],
      "source": []
    },
    {
      "cell_type": "code",
      "execution_count": null,
      "metadata": {
        "id": "HRiN_4ZbKLCo"
      },
      "outputs": [],
      "source": []
    },
    {
      "cell_type": "code",
      "execution_count": null,
      "metadata": {
        "id": "LyQEYkE9KLCo"
      },
      "outputs": [],
      "source": []
    },
    {
      "cell_type": "code",
      "execution_count": null,
      "metadata": {
        "id": "EK4NDxGQKLCo"
      },
      "outputs": [],
      "source": []
    },
    {
      "cell_type": "code",
      "execution_count": null,
      "metadata": {
        "id": "2JmzPmLuKLCo"
      },
      "outputs": [],
      "source": []
    },
    {
      "cell_type": "code",
      "execution_count": null,
      "metadata": {
        "id": "iB0nG2NhKLCq"
      },
      "outputs": [],
      "source": []
    },
    {
      "cell_type": "code",
      "execution_count": null,
      "metadata": {
        "id": "8KUr7497KLCr"
      },
      "outputs": [],
      "source": []
    },
    {
      "cell_type": "code",
      "execution_count": null,
      "metadata": {
        "id": "N33nbldNKLCr"
      },
      "outputs": [],
      "source": []
    },
    {
      "cell_type": "code",
      "execution_count": null,
      "metadata": {
        "id": "uzVtxt0EKLCr"
      },
      "outputs": [],
      "source": []
    },
    {
      "cell_type": "code",
      "execution_count": null,
      "metadata": {
        "id": "5iUTDcSTKLCr"
      },
      "outputs": [],
      "source": []
    },
    {
      "cell_type": "code",
      "execution_count": null,
      "metadata": {
        "id": "C7vf59bAKLCr"
      },
      "outputs": [],
      "source": []
    },
    {
      "cell_type": "code",
      "execution_count": null,
      "metadata": {
        "id": "xbvDvPx1KLCs"
      },
      "outputs": [],
      "source": []
    },
    {
      "cell_type": "code",
      "execution_count": null,
      "metadata": {
        "id": "2wJyn2dkKLCy"
      },
      "outputs": [],
      "source": []
    },
    {
      "cell_type": "code",
      "execution_count": null,
      "metadata": {
        "id": "b43PcVUjKLCy"
      },
      "outputs": [],
      "source": []
    },
    {
      "cell_type": "code",
      "execution_count": null,
      "metadata": {
        "id": "mYpnS4BCKLCy"
      },
      "outputs": [],
      "source": []
    },
    {
      "cell_type": "code",
      "execution_count": null,
      "metadata": {
        "id": "wGBwnZ02KLCy"
      },
      "outputs": [],
      "source": []
    },
    {
      "cell_type": "code",
      "execution_count": null,
      "metadata": {
        "id": "L1IGBbkNKLCy"
      },
      "outputs": [],
      "source": []
    },
    {
      "cell_type": "code",
      "execution_count": null,
      "metadata": {
        "id": "sEiq8sUgKLCz"
      },
      "outputs": [],
      "source": []
    },
    {
      "cell_type": "code",
      "execution_count": null,
      "metadata": {
        "id": "lhZG55TtKLCz"
      },
      "outputs": [],
      "source": []
    },
    {
      "cell_type": "code",
      "execution_count": null,
      "metadata": {
        "id": "1y9hnpfHKLCz"
      },
      "outputs": [],
      "source": []
    }
  ],
  "metadata": {
    "colab": {
      "provenance": [],
      "toc_visible": true,
      "include_colab_link": true
    },
    "kernelspec": {
      "display_name": "Python 3 (ipykernel)",
      "language": "python",
      "name": "python3"
    },
    "language_info": {
      "codemirror_mode": {
        "name": "ipython",
        "version": 3
      },
      "file_extension": ".py",
      "mimetype": "text/x-python",
      "name": "python",
      "nbconvert_exporter": "python",
      "pygments_lexer": "ipython3",
      "version": "3.9.7"
    }
  },
  "nbformat": 4,
  "nbformat_minor": 0
}